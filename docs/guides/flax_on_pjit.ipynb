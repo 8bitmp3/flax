{
 "cells": [
  {
   "cell_type": "markdown",
   "id": "9538c16b",
   "metadata": {},
   "source": [
    "# Scale up Flax modules on multiple devices\n",
    "\n",
    "This guide shows how to scale up Flax Modules on multiple devices and hosts using JAX's [`pjit`](https://jax.readthedocs.io/en/latest/jax.experimental.pjit.html#module-jax.experimental.pjit) and [`flax.linen.spmd`](https://flax.readthedocs.io/en/latest/api_reference/flax.linen.html#module-flax.linen.spmd).\n",
    "\n",
    "## Flax and `pjit`\n",
    "\n",
    "[`jax.experimental.pjit`](https://jax.readthedocs.io/en/latest/jax.experimental.pjit.html) provides a way to automatically compile and scale up JAX computations. It provides the following benefits:\n",
    "\n",
    "* `pjit` has the similar interface of [`jax.jit`](https://jax.readthedocs.io/en/latest/jax-101/02-jitting.html) and works as a decorator on a function that needs to be compiled.\n",
    "\n",
    "* When using `pjit`, you can write code as if it runs on a single device, and `pjit` will automatically compile and run it on multiple devices using the [Single Program Multi Data (SPMD)](https://jax.readthedocs.io/en/latest/glossary.html#term-SPMD) paradigm. \n",
    "\n",
    "* With `pjit` you can state how the input and output of your code is partitioned across devices, and the compiler will figure out how to partition everything inside, and how to compile inter-device communications.\n",
    "\n",
    "* For more information, refer to [JAX-101 pjit tutorial](https://jax.readthedocs.io/en/latest/jax-101/08-pjit.html) and [JAX in multi-process environments](https://jax.readthedocs.io/en/latest/multi_process.html).\n",
    "\n",
    "Flax provides a few API to help you use `pjit` on Flax Modules, including:\n",
    "\n",
    "* An interface to specify partitions of your data when defining [`flax.linen.Module`](https://flax.readthedocs.io/en/latest/api_reference/flax.linen.html#module).\n",
    "\n",
    "* Utility function to generate the partition information that `pjit` requires to run.\n",
    "\n",
    "* An interface to customize your axis names called \"logical axis annotations\" to decouple both your Module code and partition plan to experiment with different partition layouts more easily.\n"
   ]
  },
  {
   "cell_type": "markdown",
   "id": "8d4f92cd",
   "metadata": {},
   "source": [
    "# Setup\n",
    "\n",
    "Install Flax from HEAD."
   ]
  },
  {
   "cell_type": "code",
   "execution_count": 21,
   "id": "bcd03221",
   "metadata": {},
   "outputs": [],
   "source": [
    "# Once Flax v0.6.4 is out, replace this with `pip3 install flax`.\n",
    "!pip3 install -qq \"git+https://github.com/google/flax.git@main#egg=flax\""
   ]
  },
  {
   "cell_type": "markdown",
   "id": "539bcb43",
   "metadata": {},
   "source": [
    "## Imports\n",
    "\n",
    "Import some necessary dependencies.\n",
    "\n",
    "**Note:** This guide uses `--xla_force_host_platform_device_count=8` to emulate multiple devices on a CPU environment in a Google Colab/Jupyter Notebook. You can also follow the [JAX-101 pjit tutorial](https://jax.readthedocs.io/en/latest/jax-101/08-pjit.html#setup) to learn how to emulate a multi-device TPU environment (in which case you should ignore the `os.environ` cell)."
   ]
  },
  {
   "cell_type": "code",
   "execution_count": 22,
   "id": "abb7c9af",
   "metadata": {},
   "outputs": [],
   "source": [
    "import os\n",
    "os.environ[\"XLA_FLAGS\"] = '--xla_force_host_platform_device_count=8'"
   ]
  },
  {
   "cell_type": "code",
   "execution_count": 23,
   "id": "ef964b10",
   "metadata": {},
   "outputs": [],
   "source": [
    "import functools\n",
    "import numpy as np\n",
    "import jax\n",
    "\n",
    "from jax import lax, random, numpy as jnp\n",
    "\n",
    "import flax\n",
    "from flax import struct, traverse_util, linen as nn\n",
    "from flax.linen import spmd\n",
    "from flax.core import freeze, unfreeze\n",
    "from flax.training import train_state, checkpoints\n",
    "\n",
    "import optax"
   ]
  },
  {
   "cell_type": "markdown",
   "id": "683c2d07",
   "metadata": {},
   "source": [
    "In the next step, import all the `pjit`-related libraries.\n",
    "\n",
    "> **Note:** [`jax.experimental.pjit`](https://jax.readthedocs.io/en/latest/jax.experimental.pjit.html) is still in the experimental package of JAX, so there may be changes in the API in future.\n",
    "\n",
    "Start a device mesh using the 8 devices available—in this example, set them as a 2x4 device mesh, which is the same as the layout of [TPU v3-8](https://cloud.google.com/tpu/docs/system-architecture-tpu-vm#single_tpu_board).\n",
    "\n",
    "Annotate each axis with a name. A typical way to annotate axis names is `('data', 'model')`, where:\n",
    "  * `'data'`: the mesh dimension used for data-parallel sharding of the batch dimension of inputs and activations.\n",
    "  * `'model'`: the mesh dimension used for sharding parameters of the model across devices.\n"
   ]
  },
  {
   "cell_type": "code",
   "execution_count": 24,
   "id": "9da65927",
   "metadata": {},
   "outputs": [
    {
     "name": "stdout",
     "output_type": "stream",
     "text": [
      "[[CpuDevice(id=0) CpuDevice(id=1) CpuDevice(id=2) CpuDevice(id=3)]\n",
      " [CpuDevice(id=4) CpuDevice(id=5) CpuDevice(id=6) CpuDevice(id=7)]]\n"
     ]
    },
    {
     "data": {
      "text/plain": [
       "Mesh(device_ids=array([[0, 1, 2, 3],\n",
       "       [4, 5, 6, 7]]), axis_names=('data', 'model'))"
      ]
     },
     "execution_count": 24,
     "metadata": {},
     "output_type": "execute_result"
    }
   ],
   "source": [
    "from jax.experimental.pjit import pjit, with_sharding_constraint, PartitionSpec\n",
    "from jax.experimental.maps import Mesh\n",
    "from jax.experimental import mesh_utils\n",
    "\n",
    "device_mesh = mesh_utils.create_device_mesh((2, 4))\n",
    "print(device_mesh)\n",
    "mesh = Mesh(devices=device_mesh, axis_names=('data', 'model'))\n",
    "mesh"
   ]
  },
  {
   "cell_type": "markdown",
   "id": "af1363e4",
   "metadata": {},
   "source": [
    "# Define a model\n",
    "\n",
    "Define an example layer `DotReluDot` (by subclassing `flax.linen.Module`), which creates two parameters `W1` and `W2` for dot products, and uses the `jax.nn.relu` activation function in-between. \n",
    "\n",
    "To use this layer in `pjit` efficiently, apply the following APIs to annotate the parameters and intermediate variables correctly:\n",
    "\n",
    "* Use [`flax.linen.with_partitioning`](https://flax.readthedocs.io/en/latest/api_reference/_autosummary/flax.linen.with_partitioning.html#flax.linen.with_partitioning) to decorate the initializer function when creating parameters `W1` and `W2`.\n",
    "\n",
    "* Apply [`pjit.with_sharding_constraint`](https://github.com/google/jax/blob/main/jax/_src/pjit.py#L1516) to annotate intermediate variables like `y` and `z` to force a particular sharding pattern under `pjit` when the ideal constraint is known.\n",
    "\n",
    "  * This step is optional, but can sometimes help auto-SPMD to partition efficiently. In the example below, the call is not required, because `pjit` will figure out the same sharding layout for `y` and `z` regardless."
   ]
  },
  {
   "cell_type": "code",
   "execution_count": 25,
   "id": "f372822c",
   "metadata": {},
   "outputs": [],
   "source": [
    "class DotReluDot(nn.Module):\n",
    "  depth: int\n",
    "  @nn.compact\n",
    "  def __call__(self, x):\n",
    "    W1 = self.param(\n",
    "        'W1', \n",
    "        nn.with_partitioning(nn.initializers.xavier_normal(), (None, 'model')),\n",
    "        (x.shape[-1], self.depth))\n",
    "\n",
    "    y = jax.nn.relu(jnp.dot(x, W1))\n",
    "    # force a local sharding annotation.\n",
    "    y = with_sharding_constraint(y, PartitionSpec('data', 'model'))\n",
    "\n",
    "    W2 = self.param(\n",
    "        'W2', \n",
    "        nn.with_partitioning(nn.initializers.xavier_normal(), ('model', None)),\n",
    "        (self.depth, x.shape[-1]))\n",
    "\n",
    "    z = jnp.dot(y, W2)\n",
    "    # force a local sharding annotation.\n",
    "    z = with_sharding_constraint(z, PartitionSpec('data', None))\n",
    "\n",
    "    # Return a tuple to conform with the API `nn.scan` as shown in the cell below.\n",
    "    return z, None\n"
   ]
  },
  {
   "cell_type": "markdown",
   "id": "47667ef9",
   "metadata": {},
   "source": [
    "Note that values like `'data'`, `'model'` or `None` are passed into these API calls. This refers to how each dimension of this data should be sharded - either across one of the device mesh dimensions, or not sharded at all.\n",
    "\n",
    "For example:\n",
    "\n",
    "* When we define `W1` with shape `(x.shape[-1], self.depth)` and annotate as `(None, 'model')`):\n",
    "\n",
    "  * The first dimension (of length `x.shape[-1]`) will be replicated across all devices.\n",
    " \n",
    "  * The second dimension (of length `self.depth`) will be sharded over the `model` axis of the device mesh. This means `W1` will be sharded 4-way on devices `(0, 4)`, `(1, 5)`, `(2, 6)` and `(3, 7)`, on this dimension.\n",
    "  \n",
    "* When we annotate the output `z` as `('data', None)`:\n",
    "\n",
    "  * The first dimension (aka. the batch dimension) will be sharded over the `data` axis, which  means half of the batch will be processed on devices `0-3` and another half on devices `4-7`.\n",
    "  \n",
    "  * The second dimension (aka. the data depth dimension) will be replicated across all devices."
   ]
  },
  {
   "cell_type": "markdown",
   "id": "9bba2b43",
   "metadata": {},
   "source": [
    "## Lifted transforms\n",
    "\n",
    "Now define the `MLP` model as multiple layers of `DotReluDot`.\n",
    "\n",
    "To replicate identical layers, you can either use `flax.linen.scan` or a for-loop: `flax.linen.scan` can offer faster compilation times, whereas the for-loop can be faster on runtime. This guide uses `flax.linen.scan` simply to show that [Flax lifted transforms](https://flax.readthedocs.io/en/latest/advanced_topics/lift.html#supported-transformations) work together with [JAX `pjit`](https://jax.readthedocs.io/en/latest/jax.experimental.pjit.html).\n",
    "\n",
    "**Note:** `flax.linen.scan` will introduce another dimension for the params (the dimension over which `scan` is applied), and you need to use the `metadata_params` argument to annotate the partition of this dimension. Since the parameters inside your `DotReluDot` (a sub-`Module`) are already sharded along the `model` axis, you don't need to partition multiple layers across the `model` dimension here, and therefore you should denote it as `None`."
   ]
  },
  {
   "cell_type": "code",
   "execution_count": 26,
   "id": "aecffdc4",
   "metadata": {},
   "outputs": [],
   "source": [
    "class MLP(nn.Module):\n",
    "  num_layers: int\n",
    "  depth: int\n",
    "  use_scan: bool\n",
    "  @nn.compact\n",
    "  def __call__(self, x):\n",
    "    if self.use_scan:\n",
    "      x, _ = nn.scan(DotReluDot, length=self.num_layers, \n",
    "                     variable_axes={\"params\": 0},\n",
    "                     split_rngs={\"params\": True},\n",
    "                     metadata_params={nn.PARTITION_NAME: None}\n",
    "                     )(self.depth)(x)\n",
    "    else:\n",
    "      for i in range(self.num_layers):\n",
    "        x, _ = DotReluDot(self.depth)(x)\n",
    "    return x"
   ]
  },
  {
   "cell_type": "markdown",
   "id": "457989a5",
   "metadata": {},
   "source": [
    "# Sharding specification\n",
    "\n",
    "Next, you need to generate the [`jax.experimental.pjit.PartitionSpec`](html) that `pjit` should receive as annotations of _input_ and _output_ data.\n",
    "\n",
    "For data parallelism, you can shard the batched _input_ `x` across the `data` axis, by denoting the batch axis as `data`:"
   ]
  },
  {
   "cell_type": "code",
   "execution_count": 27,
   "id": "a4528851",
   "metadata": {},
   "outputs": [
    {
     "data": {
      "text/plain": [
       "PartitionSpec('data', None)"
      ]
     },
     "execution_count": 27,
     "metadata": {},
     "output_type": "execute_result"
    }
   ],
   "source": [
    "x_spec = PartitionSpec('data', None)  # dimensions: (batch, length)\n",
    "x_spec"
   ]
  },
  {
   "cell_type": "markdown",
   "id": "620e5bb4",
   "metadata": {},
   "source": [
    "However, to generate `PartitionSpec` for the _output_, you need to use some actual output as reference. One solution is to create a model, and then evaluate `model.init` abstractly using `jax.eval_shape`, and then use `nn.get_partition_spec` to automatically generate the `PartitionSpec`.\n",
    "\n",
    "The code below shows how to get the output spec if you use `flax.training.train_state` to carry out your initialization and training steps, in which case your `pjit`ted function will output a `TrainState`. \n",
    "\n",
    "(In a simpler case, people might choose the variable dict as in `variables = model.init(k, x)` as their `pjit`ted function's output. That works too.)\n",
    "\n",
    "> A side note: Here we define our `init_fn` as purely functional and takes `model` and `optimizer` as arguments. This is not necessary - you can simply define with `def init_fn(k, x):` and all will work fine here.\n",
    "> \n",
    "> This guide doesn't do it because later we will show you another way to define your model and will run `init_fn` with another model instance. However, this is problematic because `jax.eval_shape` only takes pytrees as arguments, so we have to create an abstract closure before feeding the function in."
   ]
  },
  {
   "cell_type": "code",
   "execution_count": 29,
   "id": "85e2ecab",
   "metadata": {},
   "outputs": [
    {
     "data": {
      "text/plain": [
       "TrainState(step=None, apply_fn=<bound method Module.apply of MLP(\n",
       "    # attributes\n",
       "    num_layers = 4\n",
       "    depth = 1024\n",
       "    use_scan = True\n",
       ")>, params=FrozenDict({\n",
       "    ScanDotReluDot_0: {\n",
       "        W1: PartitionSpec(None, None, 'model'),\n",
       "        W2: PartitionSpec(None, 'model', None),\n",
       "    },\n",
       "}), tx=GradientTransformation(init=<function chain.<locals>.init_fn at 0x14e73e790>, update=<function chain.<locals>.update_fn at 0x14e73ea60>), opt_state=(ScaleByAdamState(count=None, mu=FrozenDict({\n",
       "    ScanDotReluDot_0: {\n",
       "        W1: PartitionSpec(None, None, 'model'),\n",
       "        W2: PartitionSpec(None, 'model', None),\n",
       "    },\n",
       "}), nu=FrozenDict({\n",
       "    ScanDotReluDot_0: {\n",
       "        W1: PartitionSpec(None, None, 'model'),\n",
       "        W2: PartitionSpec(None, 'model', None),\n",
       "    },\n",
       "})), EmptyState()))"
      ]
     },
     "execution_count": 29,
     "metadata": {},
     "output_type": "execute_result"
    }
   ],
   "source": [
    "# MLP hyperparams\n",
    "BATCH, LAYERS, DEPTH, USE_SCAN = 8, 4, 1024, True\n",
    "# fake inputs\n",
    "x = jnp.ones((BATCH, DEPTH))\n",
    "k = random.PRNGKey(0)\n",
    "\n",
    "optimizer = optax.adam(learning_rate=0.001)\n",
    "model = MLP(LAYERS, DEPTH, USE_SCAN)\n",
    "\n",
    "def init_fn(k, x, model, optimizer):\n",
    "  variables = model.init(k, x)\n",
    "  state = train_state.TrainState.create(\n",
    "    apply_fn=model.apply,\n",
    "    params=variables['params'],\n",
    "    tx=optimizer)\n",
    "  return state\n",
    "\n",
    "with mesh:\n",
    "  abstract_variables = jax.eval_shape(\n",
    "      functools.partial(init_fn, model=model, optimizer=optimizer), k, x)\n",
    "# we need a rule on every leaf of the input variables, in this case a nested dict.\n",
    "state_spec = nn.get_partition_spec(abstract_variables)\n",
    "state_spec"
   ]
  },
  {
   "cell_type": "markdown",
   "id": "09f100e2",
   "metadata": {},
   "source": [
    "# `pjit` the initialization and train step\n",
    "\n",
    "Now you can `pjit` the `init_fn` in a similar fashion as `jit`, with two extra args `in_axis_resources` and `out_axis_resources`.\n",
    "\n",
    "You need to add `with mesh:` context when running a `pjit`ted function, so that it can refer to `mesh` to allocate data on devices correctly."
   ]
  },
  {
   "cell_type": "code",
   "execution_count": 30,
   "id": "bafde2bb",
   "metadata": {},
   "outputs": [
    {
     "data": {
      "text/plain": [
       "TrainState(step=(), apply_fn=<bound method Module.apply of MLP(\n",
       "    # attributes\n",
       "    num_layers = 4\n",
       "    depth = 1024\n",
       "    use_scan = True\n",
       ")>, params=FrozenDict({\n",
       "    ScanDotReluDot_0: {\n",
       "        W1: Partitioned(value=(4, 1024, 1024), names=(None, None, 'model')),\n",
       "        W2: Partitioned(value=(4, 1024, 1024), names=(None, 'model', None)),\n",
       "    },\n",
       "}), tx=GradientTransformation(init=<function chain.<locals>.init_fn at 0x14e73e790>, update=<function chain.<locals>.update_fn at 0x14e73ea60>), opt_state=(ScaleByAdamState(count=(), mu=FrozenDict({\n",
       "    ScanDotReluDot_0: {\n",
       "        W1: Partitioned(value=(4, 1024, 1024), names=(None, None, 'model')),\n",
       "        W2: Partitioned(value=(4, 1024, 1024), names=(None, 'model', None)),\n",
       "    },\n",
       "}), nu=FrozenDict({\n",
       "    ScanDotReluDot_0: {\n",
       "        W1: Partitioned(value=(4, 1024, 1024), names=(None, None, 'model')),\n",
       "        W2: Partitioned(value=(4, 1024, 1024), names=(None, 'model', None)),\n",
       "    },\n",
       "})), EmptyState()))"
      ]
     },
     "execution_count": 30,
     "metadata": {},
     "output_type": "execute_result"
    }
   ],
   "source": [
    "pjit_init_fn = pjit(init_fn,\n",
    "                    static_argnums=(2, 3),\n",
    "                    in_axis_resources=(PartitionSpec(None), x_spec),  # RNG key and x\n",
    "                    out_axis_resources=state_spec\n",
    "                    )\n",
    "with mesh:\n",
    "  initialized_state = pjit_init_fn(k, x, model, optimizer)\n",
    "jax.tree_map(jnp.shape, initialized_state)"
   ]
  },
  {
   "cell_type": "markdown",
   "id": "69f0693e",
   "metadata": {},
   "source": [
    "## Looking into the module output\n",
    "\n",
    "Note that in the output `initialized_state`, the params `W1` and `W2` are of type [`Partitioned`](https://flax.readthedocs.io/en/latest/api_reference/_autosummary/flax.linen.Partitioned.html). This is a wrapper around the actual JAX array that allows Flax to record metadata associated with it. You can access the raw JAX array by adding `.value` or running `.unbox()`.\n",
    "\n",
    "You can also check the underlying `.sharding` of the JAX array, which gives a hint on the way it is partitioned."
   ]
  },
  {
   "cell_type": "code",
   "execution_count": 31,
   "id": "d6004f79",
   "metadata": {},
   "outputs": [
    {
     "name": "stdout",
     "output_type": "stream",
     "text": [
      "<class 'flax.core.meta.Partitioned'>\n",
      "<class 'jaxlib.xla_extension.Array'>\n",
      "(4, 1024, 1024)\n"
     ]
    }
   ],
   "source": [
    "print(type(initialized_state.params['ScanDotReluDot_0']['W1']))\n",
    "print(type(initialized_state.params['ScanDotReluDot_0']['W1'].value))\n",
    "print(initialized_state.params['ScanDotReluDot_0']['W1'].value.shape)"
   ]
  },
  {
   "cell_type": "code",
   "execution_count": 32,
   "id": "3699a375",
   "metadata": {},
   "outputs": [
    {
     "name": "stdout",
     "output_type": "stream",
     "text": [
      "OpShardingSharding({devices=[1,1,4,2]0,4,1,5,2,6,3,7 last_tile_dim_replicate})\n"
     ]
    }
   ],
   "source": [
    "print(initialized_state.params['ScanDotReluDot_0']['W1'].value.sharding)"
   ]
  },
  {
   "cell_type": "markdown",
   "id": "90a81d19",
   "metadata": {},
   "source": [
    "You can use `jax.tree_map` to perform mass computation on a dict of boxed params, in the same way as on a dict of JAX arrays."
   ]
  },
  {
   "cell_type": "code",
   "execution_count": 33,
   "id": "8dec8158",
   "metadata": {},
   "outputs": [
    {
     "name": "stdout",
     "output_type": "stream",
     "text": [
      "FrozenDict({\n",
      "    W1: Partitioned(value=(4, 1024, 1024), names=(None, None, 'model')),\n",
      "    W2: Partitioned(value=(4, 1024, 1024), names=(None, 'model', None)),\n",
      "})\n",
      "<class 'jaxlib.xla_extension.Array'>\n",
      "(4, 1024, 1024)\n"
     ]
    }
   ],
   "source": [
    "diff = jax.tree_map(\n",
    "    lambda a, b: a - b, \n",
    "    initialized_state.params['ScanDotReluDot_0'], initialized_state.params['ScanDotReluDot_0'])\n",
    "print(jax.tree_map(jnp.shape, diff))\n",
    "diff_array = diff['W1'].unbox()\n",
    "print(type(diff_array))\n",
    "print(diff_array.shape)"
   ]
  },
  {
   "cell_type": "markdown",
   "id": "69839997",
   "metadata": {},
   "source": [
    "## `pjit` the train step and inference \n",
    "\n",
    "Now we can do the same and make a `pjit`ted training step. "
   ]
  },
  {
   "cell_type": "code",
   "execution_count": 34,
   "id": "354993fc",
   "metadata": {},
   "outputs": [],
   "source": [
    "def train_step(state, x):\n",
    "  # fake loss fn\n",
    "  def loss_unrolled(params):\n",
    "    y = model.apply({'params': params}, x)\n",
    "    return y.sum()\n",
    "  grad_fn = jax.grad(loss_unrolled)\n",
    "  grads = grad_fn(state.params)\n",
    "  state = state.apply_gradients(grads=grads)\n",
    "  return state\n",
    "\n",
    "pjit_step_fn = pjit(train_step,\n",
    "                    in_axis_resources=(state_spec, x_spec),  # input annotations\n",
    "                    out_axis_resources=state_spec,           # output annotations\n",
    "                    )\n",
    "with mesh:\n",
    "  new_state = pjit_step_fn(initialized_state, x)"
   ]
  },
  {
   "cell_type": "markdown",
   "id": "9b483975",
   "metadata": {},
   "source": [
    "Now you can do the same for inference. Note that similar to `jax.jit`, you can use a decorator like `@functools.partial(pjit, ...)` to directly compile your function."
   ]
  },
  {
   "cell_type": "code",
   "execution_count": 35,
   "id": "2515e111",
   "metadata": {},
   "outputs": [
    {
     "name": "stdout",
     "output_type": "stream",
     "text": [
      "<class 'jaxlib.xla_extension.Array'>\n",
      "float32\n",
      "(8, 1024)\n"
     ]
    }
   ],
   "source": [
    "@functools.partial(pjit, in_axis_resources=(state_spec, x_spec), out_axis_resources=x_spec)\n",
    "def pjit_apply_fn(state, x):\n",
    "  return state.apply_fn({'params': state.params}, x)\n",
    "\n",
    "with mesh:\n",
    "  y = pjit_apply_fn(new_state, x)\n",
    "print(type(y))\n",
    "print(y.dtype)\n",
    "print(y.shape)"
   ]
  },
  {
   "cell_type": "markdown",
   "id": "1f363835",
   "metadata": {},
   "source": [
    "## Profiling\n",
    "\n",
    "If you are running on a TPU pod or pod slice, you can use the `block_all` utility function to observe a performance increase."
   ]
  },
  {
   "cell_type": "code",
   "execution_count": 36,
   "id": "19f9775d",
   "metadata": {},
   "outputs": [
    {
     "name": "stdout",
     "output_type": "stream",
     "text": [
      "193 ms ± 3.39 ms per loop (mean ± std. dev. of 7 runs, 10 loops each)\n"
     ]
    }
   ],
   "source": [
    "%%timeit\n",
    "\n",
    "# check this out by profiling, your model is made model parallel automatically by XLA:SPMD!\n",
    "def block_all(xs):\n",
    "  jax.tree_map(lambda x: x.block_until_ready(), xs)\n",
    "  return xs\n",
    "\n",
    "with mesh:\n",
    "  new_state = block_all(pjit_step_fn(initialized_state, x))"
   ]
  },
  {
   "cell_type": "markdown",
   "id": "ce1615c6",
   "metadata": {},
   "source": [
    "# Logical axis annotation\n",
    "\n",
    "JAX auto SPMD encourages users to explore different sharding layouts to find the optimal one. To this end, in Flax you actually can annotate the dimensions of any array with more descriptive axis names, instead of only the device mesh axis names (i.e., `data` and `model`). \n",
    "\n",
    "Check out the `Logical-` model definitions below. It's exactly the same with the model above, except for two differences:\n",
    "\n",
    "1. All axes are annotated with more concrete, meaningful names - like `embed`, `hidden`, `batch` and `layer`. These names are referred as \"logical axis names\" in Flax. They make the dimensional changes inside model definitions more readable.\n",
    "\n",
    "2. `spmd.with_logical_partitioning` replaces `nn.with_partitioning` and `spmd.with_logical_constraint` replaces `pjit.with_sharding_constraint`, to recognize the logical axis names."
   ]
  },
  {
   "cell_type": "code",
   "execution_count": 37,
   "id": "7986f524",
   "metadata": {},
   "outputs": [],
   "source": [
    "class LogicalDotReluDot(nn.Module):\n",
    "  depth: int\n",
    "  @nn.compact\n",
    "  def __call__(self, x):\n",
    "    W1 = self.param(\n",
    "        'W1', \n",
    "        spmd.with_logical_partitioning(nn.initializers.xavier_normal(), ('embed', 'hidden')),\n",
    "        (x.shape[-1], self.depth)) \n",
    "\n",
    "    y = jax.nn.relu(jnp.dot(x, W1))\n",
    "    # force a local sharding annotation, fairly redundant in this case.\n",
    "    y = spmd.with_logical_constraint(y, ('batch', 'hidden'))\n",
    "\n",
    "    W2 = self.param(\n",
    "        'W2', \n",
    "        spmd.with_logical_partitioning(nn.initializers.xavier_normal(), ('hidden', 'embed')),\n",
    "        (self.depth, x.shape[-1]))\n",
    "\n",
    "    z = jnp.dot(y, W2)\n",
    "    # force a local sharding annotation, fairly redundant in this case.\n",
    "    z = spmd.with_logical_constraint(z, ('batch', 'embed'))\n",
    "    return z, None\n",
    "\n",
    "class LogicalMLP(nn.Module):\n",
    "  num_layers: int\n",
    "  depth: int\n",
    "  use_scan: bool\n",
    "  @nn.compact\n",
    "  def __call__(self, x):\n",
    "    if self.use_scan:\n",
    "      x, _ = nn.scan(LogicalDotReluDot, length=self.num_layers, \n",
    "                    variable_axes={\"params\": 0},\n",
    "                    split_rngs={\"params\": True},\n",
    "                    metadata_params={nn.PARTITION_NAME: 'layer'}\n",
    "                    )(self.depth)(x)\n",
    "    else:\n",
    "      for i in range(self.num_layers):\n",
    "        x, _ = DotReluDot(self.depth)(x)\n",
    "    return x\n"
   ]
  },
  {
   "cell_type": "markdown",
   "id": "9e887a4e",
   "metadata": {},
   "source": [
    "This model definition, of course, generates a set of `PartitionSpec` with the logical axis names."
   ]
  },
  {
   "cell_type": "code",
   "execution_count": 38,
   "id": "1b544682",
   "metadata": {},
   "outputs": [
    {
     "data": {
      "text/plain": [
       "TrainState(step=None, apply_fn=<bound method Module.apply of LogicalMLP(\n",
       "    # attributes\n",
       "    num_layers = 4\n",
       "    depth = 1024\n",
       "    use_scan = True\n",
       ")>, params=FrozenDict({\n",
       "    ScanLogicalDotReluDot_0: {\n",
       "        W1: PartitionSpec('layer', 'embed', 'hidden'),\n",
       "        W2: PartitionSpec('layer', 'hidden', 'embed'),\n",
       "    },\n",
       "}), tx=GradientTransformation(init=<function chain.<locals>.init_fn at 0x14e73e790>, update=<function chain.<locals>.update_fn at 0x14e73ea60>), opt_state=(ScaleByAdamState(count=None, mu=FrozenDict({\n",
       "    ScanLogicalDotReluDot_0: {\n",
       "        W1: PartitionSpec('layer', 'embed', 'hidden'),\n",
       "        W2: PartitionSpec('layer', 'hidden', 'embed'),\n",
       "    },\n",
       "}), nu=FrozenDict({\n",
       "    ScanLogicalDotReluDot_0: {\n",
       "        W1: PartitionSpec('layer', 'embed', 'hidden'),\n",
       "        W2: PartitionSpec('layer', 'hidden', 'embed'),\n",
       "    },\n",
       "})), EmptyState()))"
      ]
     },
     "execution_count": 38,
     "metadata": {},
     "output_type": "execute_result"
    }
   ],
   "source": [
    "logical_model = LogicalMLP(LAYERS, DEPTH, USE_SCAN)\n",
    "init_fn_logical_abstract = functools.partial(init_fn, model=logical_model, optimizer=optimizer)\n",
    "logical_abstract_variables = jax.eval_shape(init_fn_logical_abstract, k, x)\n",
    "logical_output_spec = nn.get_partition_spec(logical_abstract_variables)\n",
    "logical_output_spec"
   ]
  },
  {
   "cell_type": "markdown",
   "id": "a588b683",
   "metadata": {},
   "source": [
    "To allow the device mesh to take your model correctly, you should decide which of these logical axis names should be mapped to the device axis `data` or `model`. This rule is a list of (`logical_axis_name`, `device_axis_name`) tuples, and `spmd.logical_to_mesh` will convert them to the spec that `pjit` accepts.\n",
    "\n",
    "This allows you to change the rules and try out new partition layouts without modifying the model definition."
   ]
  },
  {
   "cell_type": "code",
   "execution_count": 39,
   "id": "24bb6741",
   "metadata": {},
   "outputs": [
    {
     "data": {
      "text/plain": [
       "TrainState(step=None, apply_fn=<bound method Module.apply of LogicalMLP(\n",
       "    # attributes\n",
       "    num_layers = 4\n",
       "    depth = 1024\n",
       "    use_scan = True\n",
       ")>, params=FrozenDict({\n",
       "    ScanLogicalDotReluDot_0: {\n",
       "        W1: PartitionSpec(None, None, 'model'),\n",
       "        W2: PartitionSpec(None, 'model', None),\n",
       "    },\n",
       "}), tx=GradientTransformation(init=<function chain.<locals>.init_fn at 0x14e73e790>, update=<function chain.<locals>.update_fn at 0x14e73ea60>), opt_state=(ScaleByAdamState(count=None, mu=FrozenDict({\n",
       "    ScanLogicalDotReluDot_0: {\n",
       "        W1: PartitionSpec(None, None, 'model'),\n",
       "        W2: PartitionSpec(None, 'model', None),\n",
       "    },\n",
       "}), nu=FrozenDict({\n",
       "    ScanLogicalDotReluDot_0: {\n",
       "        W1: PartitionSpec(None, None, 'model'),\n",
       "        W2: PartitionSpec(None, 'model', None),\n",
       "    },\n",
       "})), EmptyState()))"
      ]
     },
     "execution_count": 39,
     "metadata": {},
     "output_type": "execute_result"
    }
   ],
   "source": [
    "# Unspecified rule means unsharded by default, so no need to specify ('embed', None) and ('layer', None).\n",
    "rules = (('batch', 'data'),\n",
    "         ('hidden', 'model'))\n",
    "\n",
    "logical_state_spec = spmd.logical_to_mesh(logical_output_spec, rules)\n",
    "logical_state_spec"
   ]
  },
  {
   "cell_type": "markdown",
   "id": "353904eb",
   "metadata": {},
   "source": [
    "You can verify that the `logical_state_spec` here has the same content as `state_spec` on our previous example. This will be the `out_axis_resources` you specify when creating `pjit`ted fucntions."
   ]
  },
  {
   "cell_type": "code",
   "execution_count": 40,
   "id": "25b88281",
   "metadata": {},
   "outputs": [
    {
     "data": {
      "text/plain": [
       "True"
      ]
     },
     "execution_count": 40,
     "metadata": {},
     "output_type": "execute_result"
    }
   ],
   "source": [
    "state_spec.params['ScanDotReluDot_0'] == logical_state_spec.params['ScanLogicalDotReluDot_0']"
   ]
  },
  {
   "cell_type": "code",
   "execution_count": 41,
   "id": "c50bb814",
   "metadata": {},
   "outputs": [
    {
     "data": {
      "text/plain": [
       "TrainState(step=(), apply_fn=<bound method Module.apply of LogicalMLP(\n",
       "    # attributes\n",
       "    num_layers = 4\n",
       "    depth = 1024\n",
       "    use_scan = True\n",
       ")>, params=FrozenDict({\n",
       "    ScanLogicalDotReluDot_0: {\n",
       "        W1: LogicallyPartitioned(value=(4, 1024, 1024), names=('layer', 'embed', 'hidden')),\n",
       "        W2: LogicallyPartitioned(value=(4, 1024, 1024), names=('layer', 'hidden', 'embed')),\n",
       "    },\n",
       "}), tx=GradientTransformation(init=<function chain.<locals>.init_fn at 0x14e73e790>, update=<function chain.<locals>.update_fn at 0x14e73ea60>), opt_state=(ScaleByAdamState(count=(), mu=FrozenDict({\n",
       "    ScanLogicalDotReluDot_0: {\n",
       "        W1: LogicallyPartitioned(value=(4, 1024, 1024), names=('layer', 'embed', 'hidden')),\n",
       "        W2: LogicallyPartitioned(value=(4, 1024, 1024), names=('layer', 'hidden', 'embed')),\n",
       "    },\n",
       "}), nu=FrozenDict({\n",
       "    ScanLogicalDotReluDot_0: {\n",
       "        W1: LogicallyPartitioned(value=(4, 1024, 1024), names=('layer', 'embed', 'hidden')),\n",
       "        W2: LogicallyPartitioned(value=(4, 1024, 1024), names=('layer', 'hidden', 'embed')),\n",
       "    },\n",
       "})), EmptyState()))"
      ]
     },
     "execution_count": 41,
     "metadata": {},
     "output_type": "execute_result"
    }
   ],
   "source": [
    "logical_pjit_init_fn = pjit(init_fn,\n",
    "                            static_argnums=(2, 3),\n",
    "                            in_axis_resources=(PartitionSpec(None), x_spec),  # RNG key and x\n",
    "                            out_axis_resources=logical_state_spec\n",
    "                            )\n",
    "with mesh:\n",
    "  logical_initialized_state = logical_pjit_init_fn(k, x, logical_model, optimizer)\n",
    "jax.tree_map(jnp.shape, logical_initialized_state)"
   ]
  },
  {
   "cell_type": "markdown",
   "id": "07e20faa",
   "metadata": {},
   "source": [
    "## When to use device axis, and when logical axis?\n",
    "\n",
    "It all depends on how much you want to control the partitioning of your model.\n",
    "\n",
    "If you want a very simple model or you are very confident of your way of partitioning, defining it with __device mesh axis__ can save you a few extra lines of code of converting the logical naming back to the device naming.\n",
    "\n",
    "On the other hand, the __logical naming__ helpers are useful for exploring different sharding layouts. Use this if you want to expriment around and find the most optimal partition layout for your model.\n",
    "\n",
    "In really advanced use cases, you may have more complicated sharding patterns that require annotating *activation* dimension names differently from *parameter* dimension names. When people wish to have more fine-grained control on manual mesh assignments, directly using __device axis names__ could be more helpful."
   ]
  },
  {
   "cell_type": "markdown",
   "id": "efcfc58f",
   "metadata": {},
   "source": [
    "# Save the params\n",
    "\n",
    "You can use `flax.training.checkpoints` to save the cross-device array, as shown in our [checkpointing guide for multi-process arrays](https://flax.readthedocs.io/en/latest/guides/use_checkpointing.html#multi-host-multi-process-checkpointing). This is especially required if you are running on a multi-host environment (e.g. a TPU pod).\n",
    "\n",
    "Keep in mind that in order to restore the arrays to the desired partition, you need to provide a sample `target` pytree that has the same structure and has the desired `PartitionSpec` in place for each JAX array. The `PartitionSpec` you use to restore the array doesn't necessarily need to be the same as the ones you used to store the array."
   ]
  }
 ],
 "metadata": {
  "jupytext": {
   "formats": "ipynb,md"
  },
  "kernelspec": {
   "display_name": "Python 3 (ipykernel)",
   "language": "python",
   "name": "python3"
  },
  "language_info": {
   "codemirror_mode": {
    "name": "ipython",
    "version": 3
   },
   "file_extension": ".py",
   "mimetype": "text/x-python",
   "name": "python",
   "nbconvert_exporter": "python",
   "pygments_lexer": "ipython3",
   "version": "3.9.15"
  }
 },
 "nbformat": 4,
 "nbformat_minor": 5
}
