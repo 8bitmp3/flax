{
 "cells": [
  {
   "cell_type": "markdown",
   "id": "1c1d54a7",
   "metadata": {},
   "source": [
    "Model Surgery\n",
    "==============================\n",
    "\n",
    "Usually, Flax modules and optimizers track and update the params for you. But there may be some time when you want to do some model surgery and tweak the param tensors yourself. This guide shows you how to do the trick."
   ]
  },
  {
   "cell_type": "markdown",
   "id": "6117c67d",
   "metadata": {},
   "source": [
    "## Setup"
   ]
  },
  {
   "cell_type": "code",
   "execution_count": 2,
   "id": "841fa094",
   "metadata": {},
   "outputs": [
    {
     "name": "stdout",
     "output_type": "stream",
     "text": [
      "\u001b[33mWARNING: Ignoring invalid distribution -ax (/Users/ivyzheng/envs/py37/lib/python3.7/site-packages)\u001b[0m\u001b[33m\n",
      "\u001b[0m\u001b[33mWARNING: Ignoring invalid distribution -ax (/Users/ivyzheng/envs/py37/lib/python3.7/site-packages)\u001b[0m\u001b[33m\n",
      "\u001b[0m\u001b[33mWARNING: Ignoring invalid distribution -ax (/Users/ivyzheng/envs/py37/lib/python3.7/site-packages)\u001b[0m\u001b[33m\n",
      "\u001b[0m\u001b[33mWARNING: Ignoring invalid distribution -ax (/Users/ivyzheng/envs/py37/lib/python3.7/site-packages)\u001b[0m\u001b[33m\n",
      "\u001b[0m\u001b[33mWARNING: Ignoring invalid distribution -ax (/Users/ivyzheng/envs/py37/lib/python3.7/site-packages)\u001b[0m\u001b[33m\n",
      "\u001b[0m\u001b[33mWARNING: Ignoring invalid distribution -ax (/Users/ivyzheng/envs/py37/lib/python3.7/site-packages)\u001b[0m\u001b[33m\n",
      "\u001b[0m"
     ]
    }
   ],
   "source": [
    "!pip install --upgrade -q pip jax jaxlib flax"
   ]
  },
  {
   "cell_type": "code",
   "execution_count": 3,
   "id": "cb7e98a4",
   "metadata": {},
   "outputs": [],
   "source": [
    "import functools\n",
    "\n",
    "import jax\n",
    "import jax.numpy as jnp\n",
    "from flax import traverse_util\n",
    "from flax import linen as nn\n",
    "from flax.core import freeze\n",
    "import jax\n",
    "import optax"
   ]
  },
  {
   "cell_type": "markdown",
   "id": "6cc857ee",
   "metadata": {},
   "source": [
    "Surgery with Flax Modules\n",
    "--------------------------------\n",
    "\n",
    "Let's create a small convolutional neural network model for our demo.\n",
    "\n",
    "As usual, you can run `CNN.init(...)['params']` to get the `params` to pass and modify it in every step of your training.\n"
   ]
  },
  {
   "cell_type": "code",
   "execution_count": 4,
   "id": "98d0a97c",
   "metadata": {},
   "outputs": [
    {
     "data": {
      "text/plain": [
       "FrozenDict({\n",
       "    Conv_0: {\n",
       "        bias: (32,),\n",
       "        kernel: (3, 3, 1, 32),\n",
       "    },\n",
       "    Conv_1: {\n",
       "        bias: (64,),\n",
       "        kernel: (3, 3, 32, 64),\n",
       "    },\n",
       "    Dense_0: {\n",
       "        bias: (256,),\n",
       "        kernel: (3136, 256),\n",
       "    },\n",
       "    Dense_1: {\n",
       "        bias: (10,),\n",
       "        kernel: (256, 10),\n",
       "    },\n",
       "})"
      ]
     },
     "execution_count": 4,
     "metadata": {},
     "output_type": "execute_result"
    }
   ],
   "source": [
    "class CNN(nn.Module):\n",
    "    @nn.compact\n",
    "    def __call__(self, x):\n",
    "      x = nn.Conv(features=32, kernel_size=(3, 3))(x)\n",
    "      x = nn.relu(x)\n",
    "      x = nn.avg_pool(x, window_shape=(2, 2), strides=(2, 2))\n",
    "      x = nn.Conv(features=64, kernel_size=(3, 3))(x)\n",
    "      x = nn.relu(x)\n",
    "      x = nn.avg_pool(x, window_shape=(2, 2), strides=(2, 2))\n",
    "      x = x.reshape((x.shape[0], -1))\n",
    "      x = nn.Dense(features=256)(x)\n",
    "      x = nn.relu(x)\n",
    "      x = nn.Dense(features=10)(x)\n",
    "      x = nn.log_softmax(x)\n",
    "      return x\n",
    "\n",
    "def get_initial_params(rng):\n",
    "    init_shape = jnp.ones((1, 28, 28, 1), jnp.float32)\n",
    "    initial_params = CNN().init(rng, init_shape)['params']\n",
    "    return initial_params\n",
    "\n",
    "key = jax.random.PRNGKey(0)\n",
    "params = get_initial_params(key)\n",
    "\n",
    "jax.tree_util.tree_map(jnp.shape, params)"
   ]
  },
  {
   "cell_type": "markdown",
   "id": "ca60dab5",
   "metadata": {},
   "source": [
    "Note that what returned as `params` is a `FrozenDict`, which contains a few JAX arrays as kernel and bias. \n",
    "\n",
    "A `FrozenDict` is nothing more than a read-only dict, and Flax made it read-only because of the functional nature of JAX: JAX arrays are immutable, and the new `params` need to replace the old `params`. Making the dict read-only ensures that no in-place mutation of the dict can happen accidentally during the training and updating.\n",
    "\n",
    "One way to actually modify the params outside of a Flax module is to explicitly flatten it and creates a mutable dict:"
   ]
  },
  {
   "cell_type": "code",
   "execution_count": 5,
   "id": "e6c81726",
   "metadata": {},
   "outputs": [
    {
     "data": {
      "text/plain": [
       "{('Conv_0', 'bias'): (32,),\n",
       " ('Conv_0', 'kernel'): (3, 3, 1, 32),\n",
       " ('Conv_1', 'bias'): (64,),\n",
       " ('Conv_1', 'kernel'): (3, 3, 32, 64),\n",
       " ('Dense_0', 'bias'): (256,),\n",
       " ('Dense_0', 'kernel'): (3136, 256),\n",
       " ('Dense_1', 'bias'): (10,),\n",
       " ('Dense_1', 'kernel'): (256, 10)}"
      ]
     },
     "execution_count": 5,
     "metadata": {},
     "output_type": "execute_result"
    }
   ],
   "source": [
    "# Get a flattened key-value list.\n",
    "flat_params = traverse_util.flatten_dict(params)\n",
    "\n",
    "jax.tree_util.tree_map(jnp.shape, flat_params)"
   ]
  },
  {
   "cell_type": "markdown",
   "id": "ede32bec",
   "metadata": {},
   "source": [
    "Now you can do whatever you want with the params. When you are done, unflatten it back and use it in future training."
   ]
  },
  {
   "cell_type": "code",
   "execution_count": 6,
   "id": "0083e1d1",
   "metadata": {},
   "outputs": [
    {
     "data": {
      "text/plain": [
       "FrozenDict({\n",
       "    Conv_0: {\n",
       "        bias: (32,),\n",
       "        kernel: (3, 3, 1, 32),\n",
       "    },\n",
       "    Conv_1: {\n",
       "        bias: (64,),\n",
       "        kernel: (3, 3, 32, 64),\n",
       "    },\n",
       "    Dense_0: {\n",
       "        bias: (256,),\n",
       "        kernel: (3136, 256),\n",
       "    },\n",
       "    Dense_1: {\n",
       "        bias: (10,),\n",
       "        kernel: (256, 10),\n",
       "    },\n",
       "})"
      ]
     },
     "execution_count": 6,
     "metadata": {},
     "output_type": "execute_result"
    }
   ],
   "source": [
    "# Somehow modify a layer\n",
    "dense_kernel = flat_params[('Dense_1', 'kernel')]\n",
    "flat_params[('Dense_1', 'kernel')] = dense_kernel / jnp.linalg.norm(dense_kernel)\n",
    "\n",
    "# Unflatten.\n",
    "unflat_params = traverse_util.unflatten_dict(flat_params)\n",
    "# Refreeze.\n",
    "unflat_params = freeze(unflat_params)\n",
    "jax.tree_util.tree_map(jnp.shape, unflat_params)"
   ]
  },
  {
   "cell_type": "markdown",
   "id": "38f80d8d",
   "metadata": {},
   "source": [
    "Surgery with Optimizers\n",
    "--------------------------------\n",
    "\n",
    "When using `Optax` as an optimizer, the ``opt_state`` is actually a nested tuple\n",
    "of the states of individual gradient transformations that compose the optimizer.\n",
    "These states contain pytrees that mirror the parameter tree, and can be modified\n",
    "the same way: flattening, modifying, unflattening, and then recreating a new\n",
    "optimizer state that mirrors the original state."
   ]
  },
  {
   "cell_type": "code",
   "execution_count": 7,
   "id": "ad193d44",
   "metadata": {},
   "outputs": [
    {
     "data": {
      "text/plain": [
       "(ScaleByAdamState(count=(), mu=FrozenDict({\n",
       "     Conv_0: {\n",
       "         bias: (32,),\n",
       "         kernel: (3, 3, 1, 32),\n",
       "     },\n",
       "     Conv_1: {\n",
       "         bias: (64,),\n",
       "         kernel: (3, 3, 32, 64),\n",
       "     },\n",
       "     Dense_0: {\n",
       "         bias: (256,),\n",
       "         kernel: (3136, 256),\n",
       "     },\n",
       "     Dense_1: {\n",
       "         bias: (10,),\n",
       "         kernel: (256, 10),\n",
       "     },\n",
       " }), nu=FrozenDict({\n",
       "     Conv_0: {\n",
       "         bias: (32,),\n",
       "         kernel: (3, 3, 1, 32),\n",
       "     },\n",
       "     Conv_1: {\n",
       "         bias: (64,),\n",
       "         kernel: (3, 3, 32, 64),\n",
       "     },\n",
       "     Dense_0: {\n",
       "         bias: (256,),\n",
       "         kernel: (3136, 256),\n",
       "     },\n",
       "     Dense_1: {\n",
       "         bias: (10,),\n",
       "         kernel: (256, 10),\n",
       "     },\n",
       " })),\n",
       " EmptyState())"
      ]
     },
     "execution_count": 7,
     "metadata": {},
     "output_type": "execute_result"
    }
   ],
   "source": [
    "tx = optax.adam(1.0)\n",
    "opt_state = tx.init(params)\n",
    "\n",
    "# The optimizer state is a tuple of gradient transformation states.\n",
    "jax.tree_util.tree_map(jnp.shape, opt_state)"
   ]
  },
  {
   "cell_type": "markdown",
   "id": "3e5c8b42",
   "metadata": {},
   "source": [
    "The pytrees inside the optimizer state follow the same structure as the\n",
    "parameters and can be flattened / modified exactly the same way."
   ]
  },
  {
   "cell_type": "code",
   "execution_count": 8,
   "id": "3f25f432",
   "metadata": {},
   "outputs": [
    {
     "data": {
      "text/plain": [
       "{('Conv_0', 'bias'): (32,),\n",
       " ('Conv_0', 'kernel'): (3, 3, 1, 32),\n",
       " ('Conv_1', 'bias'): (64,),\n",
       " ('Conv_1', 'kernel'): (3, 3, 32, 64),\n",
       " ('Dense_0', 'bias'): (256,),\n",
       " ('Dense_0', 'kernel'): (3136, 256),\n",
       " ('Dense_1', 'bias'): (10,),\n",
       " ('Dense_1', 'kernel'): (256, 10)}"
      ]
     },
     "execution_count": 8,
     "metadata": {},
     "output_type": "execute_result"
    }
   ],
   "source": [
    "flat_mu = traverse_util.flatten_dict(opt_state[0].mu)\n",
    "flat_nu = traverse_util.flatten_dict(opt_state[0].nu)\n",
    "\n",
    "jax.tree_util.tree_map(jnp.shape, flat_mu)"
   ]
  },
  {
   "cell_type": "markdown",
   "id": "75b7bb95",
   "metadata": {},
   "source": [
    "After modification, re-create optimizer state. Use this for future training."
   ]
  },
  {
   "cell_type": "code",
   "execution_count": 10,
   "id": "aa8d2eae",
   "metadata": {},
   "outputs": [
    {
     "data": {
      "text/plain": [
       "(ScaleByAdamState(count=(), mu={'Conv_0': {'bias': (32,), 'kernel': (3, 3, 1, 32)}, 'Conv_1': {'bias': (64,), 'kernel': (3, 3, 32, 64)}, 'Dense_0': {'bias': (256,), 'kernel': (3136, 256)}, 'Dense_1': {'bias': (10,), 'kernel': (256, 10)}}, nu={'Conv_0': {'bias': (32,), 'kernel': (3, 3, 1, 32)}, 'Conv_1': {'bias': (64,), 'kernel': (3, 3, 32, 64)}, 'Dense_0': {'bias': (256,), 'kernel': (3136, 256)}, 'Dense_1': {'bias': (10,), 'kernel': (256, 10)}}),\n",
       " EmptyState())"
      ]
     },
     "execution_count": 10,
     "metadata": {},
     "output_type": "execute_result"
    }
   ],
   "source": [
    "opt_state = (\n",
    "    opt_state[0]._replace(\n",
    "        mu=traverse_util.unflatten_dict(flat_mu),\n",
    "        nu=traverse_util.unflatten_dict(flat_nu),\n",
    "    ),\n",
    ") + opt_state[1:]\n",
    "jax.tree_util.tree_map(jnp.shape, opt_state)"
   ]
  }
 ],
 "metadata": {
  "jupytext": {
   "formats": "ipynb,md"
  },
  "kernelspec": {
   "display_name": "Python 3 (ipykernel)",
   "language": "python",
   "name": "python3"
  },
  "language_info": {
   "codemirror_mode": {
    "name": "ipython",
    "version": 3
   },
   "file_extension": ".py",
   "mimetype": "text/x-python",
   "name": "python",
   "nbconvert_exporter": "python",
   "pygments_lexer": "ipython3",
   "version": "3.7.9"
  }
 },
 "nbformat": 4,
 "nbformat_minor": 5
}
